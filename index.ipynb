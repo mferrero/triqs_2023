{
 "cells": [
  {
   "cell_type": "markdown",
   "metadata": {},
   "source": [
    "# TRIQS Summer School 2023\n",
    "\n",
    "Here is some material about my lectures at the **2023 TRIQS summer school held at Port Royal**.\n",
    "\n",
    "## Introduction to Monte Carlo\n",
    "\n",
    "- The slides of the lecture can be found with [this link](https://mferrero.github.io/triqs_2023/monte_carlo/01-intro_monte_carlo.slides.html).\n",
    "\n",
    "- The corresponding notebooks are in this [github repository](https://github.com/mferrero/triqs_2023/tree/master/notebooks). You can also use them directly with [this binder link](https://mybinder.org/v2/gh/mferrero/triqs_2023/HEAD).\n",
    "\n",
    "## Introduction to continuous-time quantum Monte Carlo solvers\n",
    "\n",
    "- The slides of the lecture are [here](https://mferrero.github.io/triqs_2023/ctqmc/ctqmc_solvers.pdf).\n"
   ]
  }
 ],
 "metadata": {
  "kernelspec": {
   "display_name": "Python 3",
   "language": "python",
   "name": "python3"
  },
  "language_info": {
   "codemirror_mode": {
    "name": "ipython",
    "version": 3
   },
   "file_extension": ".py",
   "mimetype": "text/x-python",
   "name": "python",
   "nbconvert_exporter": "python",
   "pygments_lexer": "ipython3",
   "version": "3.8.5"
  }
 },
 "nbformat": 4,
 "nbformat_minor": 4
}
